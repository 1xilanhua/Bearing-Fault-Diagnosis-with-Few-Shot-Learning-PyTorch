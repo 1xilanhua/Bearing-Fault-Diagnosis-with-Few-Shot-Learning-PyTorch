{
 "cells": [
  {
   "cell_type": "code",
   "execution_count": 1,
   "metadata": {},
   "outputs": [],
   "source": [
    "import numpy as np\n",
    "import torch\n",
    "from torch.utils.data import DataLoader\n",
    "from torchsummary import summary\n",
    "\n",
    "from dataset import CWRUDataset\n",
    "from models import SiameseNet\n",
    "from configs import window_size"
   ]
  },
  {
   "cell_type": "code",
   "execution_count": 2,
   "metadata": {},
   "outputs": [
    {
     "name": "stdout",
     "output_type": "stream",
     "text": [
      "loading dataset..\n",
      "datasets from 29 file(s) loaded.\n"
     ]
    }
   ],
   "source": [
    "exp_list = ['12DriveEndFault']\n",
    "rpm_list = ['1772', '1750', '1730']\n",
    "\n",
    "dataset = CWRUDataset(exp_list, rpm_list, window_size)\n",
    "\n",
    "model = SiameseNet()\n",
    "if torch.cuda.is_available():\n",
    "    model = model.to('cuda')\n",
    "\n",
    "# summary(model, torch.zeros((32, 2, 2048)), torch.zeros((32, 2, 2048)))"
   ]
  },
  {
   "cell_type": "code",
   "execution_count": 3,
   "metadata": {},
   "outputs": [],
   "source": [
    "train_size = int(0.6 * len(dataset))\n",
    "val_size = int(0.2 * len(dataset))\n",
    "test_size = len(dataset) - train_size - val_size\n",
    "\n",
    "train_dataset, val_dataset, test_dataset = torch.utils.data.random_split(dataset, [train_size, val_size, test_size])"
   ]
  },
  {
   "cell_type": "code",
   "execution_count": 4,
   "metadata": {},
   "outputs": [],
   "source": [
    "from train import siamese_trainer\n",
    "from configs import batch_size, learning_rate, n_iter\n",
    "device = torch.device('cuda' if torch.cuda.is_available() else 'cpu')\n",
    "\n",
    "batch_size = 64"
   ]
  },
  {
   "cell_type": "code",
   "execution_count": 5,
   "metadata": {},
   "outputs": [],
   "source": [
    "trainer = siamese_trainer(model, train_dataset, val_dataset, batch_size, learning_rate, n_iter, device)"
   ]
  },
  {
   "cell_type": "code",
   "execution_count": 6,
   "metadata": {},
   "outputs": [
    {
     "name": "stdout",
     "output_type": "stream",
     "text": [
      "73 460 0.15869565217391304\n",
      "Epoch [1/1500], Training Loss: 0.6938, Validation Loss: 0.6746, Accuracy: 15.87%\n",
      "Validation loss decreased from inf to 0.6746. Saving model...\n",
      "70 460 0.15217391304347827\n",
      "Epoch [11/1500], Training Loss: 0.5888, Validation Loss: 0.5643, Accuracy: 15.22%\n",
      "83 460 0.18043478260869567\n",
      "Epoch [21/1500], Training Loss: 0.3722, Validation Loss: 0.2694, Accuracy: 18.04%\n",
      "Validation loss decreased from 0.2940 to 0.2694. Saving model...\n",
      "62 460 0.13478260869565217\n",
      "Epoch [31/1500], Training Loss: 0.2705, Validation Loss: 0.1545, Accuracy: 13.48%\n",
      "Validation loss decreased from 0.1977 to 0.1545. Saving model...\n",
      "79 460 0.17173913043478262\n",
      "Epoch [41/1500], Training Loss: 0.2120, Validation Loss: 0.2287, Accuracy: 17.17%\n",
      "74 460 0.1608695652173913\n",
      "Epoch [51/1500], Training Loss: 0.2045, Validation Loss: 0.1357, Accuracy: 16.09%\n",
      "Validation loss decreased from 0.1364 to 0.1357. Saving model...\n",
      "67 460 0.14565217391304347\n",
      "Epoch [61/1500], Training Loss: 0.1883, Validation Loss: 0.1492, Accuracy: 14.57%\n",
      "74 460 0.1608695652173913\n",
      "Epoch [71/1500], Training Loss: 0.1702, Validation Loss: 0.1989, Accuracy: 16.09%\n",
      "76 460 0.16521739130434782\n",
      "Epoch [81/1500], Training Loss: 0.1736, Validation Loss: 0.1571, Accuracy: 16.52%\n",
      "72 460 0.1565217391304348\n",
      "Epoch [91/1500], Training Loss: 0.1587, Validation Loss: 0.1346, Accuracy: 15.65%\n",
      "78 460 0.16956521739130434\n",
      "Epoch [101/1500], Training Loss: 0.1232, Validation Loss: 0.1469, Accuracy: 16.96%\n",
      "72 460 0.1565217391304348\n",
      "Epoch [111/1500], Training Loss: 0.1219, Validation Loss: 0.1476, Accuracy: 15.65%\n",
      "77 460 0.1673913043478261\n",
      "Epoch [121/1500], Training Loss: 0.1112, Validation Loss: 0.1039, Accuracy: 16.74%\n",
      "66 460 0.14347826086956522\n",
      "Epoch [131/1500], Training Loss: 0.1006, Validation Loss: 0.1275, Accuracy: 14.35%\n",
      "78 460 0.16956521739130434\n",
      "Epoch [141/1500], Training Loss: 0.1086, Validation Loss: 0.1313, Accuracy: 16.96%\n",
      "83 460 0.18043478260869567\n",
      "Epoch [151/1500], Training Loss: 0.0821, Validation Loss: 0.1009, Accuracy: 18.04%\n",
      "79 460 0.17173913043478262\n",
      "Epoch [161/1500], Training Loss: 0.0880, Validation Loss: 0.1121, Accuracy: 17.17%\n",
      "69 460 0.15\n",
      "Epoch [171/1500], Training Loss: 0.0999, Validation Loss: 0.0635, Accuracy: 15.00%\n",
      "84 460 0.1826086956521739\n",
      "Epoch [181/1500], Training Loss: 0.0663, Validation Loss: 0.0923, Accuracy: 18.26%\n",
      "81 460 0.17608695652173914\n",
      "Epoch [191/1500], Training Loss: 0.0708, Validation Loss: 0.0925, Accuracy: 17.61%\n",
      "70 460 0.15217391304347827\n",
      "Epoch [201/1500], Training Loss: 0.0579, Validation Loss: 0.0447, Accuracy: 15.22%\n",
      "66 460 0.14347826086956522\n",
      "Epoch [211/1500], Training Loss: 0.0591, Validation Loss: 0.0773, Accuracy: 14.35%\n",
      "80 460 0.17391304347826086\n",
      "Epoch [221/1500], Training Loss: 0.0613, Validation Loss: 0.0587, Accuracy: 17.39%\n",
      "72 460 0.1565217391304348\n",
      "Epoch [231/1500], Training Loss: 0.0675, Validation Loss: 0.0745, Accuracy: 15.65%\n",
      "83 460 0.18043478260869567\n",
      "Epoch [241/1500], Training Loss: 0.0738, Validation Loss: 0.0311, Accuracy: 18.04%\n",
      "Validation loss decreased from 0.0348 to 0.0311. Saving model...\n",
      "69 460 0.15\n",
      "Epoch [251/1500], Training Loss: 0.0627, Validation Loss: 0.0513, Accuracy: 15.00%\n",
      "66 460 0.14347826086956522\n",
      "Epoch [261/1500], Training Loss: 0.0441, Validation Loss: 0.0565, Accuracy: 14.35%\n",
      "82 460 0.1782608695652174\n",
      "Epoch [271/1500], Training Loss: 0.0592, Validation Loss: 0.0517, Accuracy: 17.83%\n",
      "69 460 0.15\n",
      "Epoch [281/1500], Training Loss: 0.0490, Validation Loss: 0.0900, Accuracy: 15.00%\n",
      "68 460 0.14782608695652175\n",
      "Epoch [291/1500], Training Loss: 0.0649, Validation Loss: 0.0557, Accuracy: 14.78%\n",
      "68 460 0.14782608695652175\n",
      "Epoch [301/1500], Training Loss: 0.0738, Validation Loss: 0.0454, Accuracy: 14.78%\n",
      "63 460 0.13695652173913042\n",
      "Epoch [311/1500], Training Loss: 0.0670, Validation Loss: 0.0355, Accuracy: 13.70%\n",
      "66 460 0.14347826086956522\n",
      "Epoch [321/1500], Training Loss: 0.0421, Validation Loss: 0.0534, Accuracy: 14.35%\n",
      "67 460 0.14565217391304347\n",
      "Epoch [331/1500], Training Loss: 0.0335, Validation Loss: 0.0492, Accuracy: 14.57%\n",
      "83 460 0.18043478260869567\n",
      "Epoch [341/1500], Training Loss: 0.0657, Validation Loss: 0.0441, Accuracy: 18.04%\n"
     ]
    },
    {
     "ename": "KeyboardInterrupt",
     "evalue": "",
     "output_type": "error",
     "traceback": [
      "\u001b[1;31m---------------------------------------------------------------------------\u001b[0m",
      "\u001b[1;31mKeyboardInterrupt\u001b[0m                         Traceback (most recent call last)",
      "Cell \u001b[1;32mIn[6], line 1\u001b[0m\n\u001b[1;32m----> 1\u001b[0m trainer\u001b[39m.\u001b[39;49mtrain()\n",
      "File \u001b[1;32mc:\\Users\\glori\\GitHub\\Bearing-Fault-Diagnosis-with-Few-show-learning-pytorch\\train.py:43\u001b[0m, in \u001b[0;36msiamese_trainer.train\u001b[1;34m(self)\u001b[0m\n\u001b[0;32m     41\u001b[0m total \u001b[39m=\u001b[39m \u001b[39m0\u001b[39m\n\u001b[0;32m     42\u001b[0m \u001b[39mwith\u001b[39;00m torch\u001b[39m.\u001b[39mno_grad():\n\u001b[1;32m---> 43\u001b[0m     \u001b[39mfor\u001b[39;00m (x1, x2), y \u001b[39min\u001b[39;00m \u001b[39mself\u001b[39m\u001b[39m.\u001b[39mval_loader:\n\u001b[0;32m     44\u001b[0m         x1, x2, y \u001b[39m=\u001b[39m x1\u001b[39m.\u001b[39mto(\u001b[39mself\u001b[39m\u001b[39m.\u001b[39mdevice), x2\u001b[39m.\u001b[39mto(\u001b[39mself\u001b[39m\u001b[39m.\u001b[39mdevice), y\u001b[39m.\u001b[39mto(\u001b[39mself\u001b[39m\u001b[39m.\u001b[39mdevice)\n\u001b[0;32m     45\u001b[0m         output \u001b[39m=\u001b[39m \u001b[39mself\u001b[39m\u001b[39m.\u001b[39mmodel(x1, x2)\n",
      "File \u001b[1;32mc:\\Users\\glori\\miniconda3\\lib\\site-packages\\torch\\utils\\data\\dataloader.py:628\u001b[0m, in \u001b[0;36m_BaseDataLoaderIter.__next__\u001b[1;34m(self)\u001b[0m\n\u001b[0;32m    625\u001b[0m \u001b[39mif\u001b[39;00m \u001b[39mself\u001b[39m\u001b[39m.\u001b[39m_sampler_iter \u001b[39mis\u001b[39;00m \u001b[39mNone\u001b[39;00m:\n\u001b[0;32m    626\u001b[0m     \u001b[39m# TODO(https://github.com/pytorch/pytorch/issues/76750)\u001b[39;00m\n\u001b[0;32m    627\u001b[0m     \u001b[39mself\u001b[39m\u001b[39m.\u001b[39m_reset()  \u001b[39m# type: ignore[call-arg]\u001b[39;00m\n\u001b[1;32m--> 628\u001b[0m data \u001b[39m=\u001b[39m \u001b[39mself\u001b[39;49m\u001b[39m.\u001b[39;49m_next_data()\n\u001b[0;32m    629\u001b[0m \u001b[39mself\u001b[39m\u001b[39m.\u001b[39m_num_yielded \u001b[39m+\u001b[39m\u001b[39m=\u001b[39m \u001b[39m1\u001b[39m\n\u001b[0;32m    630\u001b[0m \u001b[39mif\u001b[39;00m \u001b[39mself\u001b[39m\u001b[39m.\u001b[39m_dataset_kind \u001b[39m==\u001b[39m _DatasetKind\u001b[39m.\u001b[39mIterable \u001b[39mand\u001b[39;00m \\\n\u001b[0;32m    631\u001b[0m         \u001b[39mself\u001b[39m\u001b[39m.\u001b[39m_IterableDataset_len_called \u001b[39mis\u001b[39;00m \u001b[39mnot\u001b[39;00m \u001b[39mNone\u001b[39;00m \u001b[39mand\u001b[39;00m \\\n\u001b[0;32m    632\u001b[0m         \u001b[39mself\u001b[39m\u001b[39m.\u001b[39m_num_yielded \u001b[39m>\u001b[39m \u001b[39mself\u001b[39m\u001b[39m.\u001b[39m_IterableDataset_len_called:\n",
      "File \u001b[1;32mc:\\Users\\glori\\miniconda3\\lib\\site-packages\\torch\\utils\\data\\dataloader.py:671\u001b[0m, in \u001b[0;36m_SingleProcessDataLoaderIter._next_data\u001b[1;34m(self)\u001b[0m\n\u001b[0;32m    669\u001b[0m \u001b[39mdef\u001b[39;00m \u001b[39m_next_data\u001b[39m(\u001b[39mself\u001b[39m):\n\u001b[0;32m    670\u001b[0m     index \u001b[39m=\u001b[39m \u001b[39mself\u001b[39m\u001b[39m.\u001b[39m_next_index()  \u001b[39m# may raise StopIteration\u001b[39;00m\n\u001b[1;32m--> 671\u001b[0m     data \u001b[39m=\u001b[39m \u001b[39mself\u001b[39;49m\u001b[39m.\u001b[39;49m_dataset_fetcher\u001b[39m.\u001b[39;49mfetch(index)  \u001b[39m# may raise StopIteration\u001b[39;00m\n\u001b[0;32m    672\u001b[0m     \u001b[39mif\u001b[39;00m \u001b[39mself\u001b[39m\u001b[39m.\u001b[39m_pin_memory:\n\u001b[0;32m    673\u001b[0m         data \u001b[39m=\u001b[39m _utils\u001b[39m.\u001b[39mpin_memory\u001b[39m.\u001b[39mpin_memory(data, \u001b[39mself\u001b[39m\u001b[39m.\u001b[39m_pin_memory_device)\n",
      "File \u001b[1;32mc:\\Users\\glori\\miniconda3\\lib\\site-packages\\torch\\utils\\data\\_utils\\fetch.py:61\u001b[0m, in \u001b[0;36m_MapDatasetFetcher.fetch\u001b[1;34m(self, possibly_batched_index)\u001b[0m\n\u001b[0;32m     59\u001b[0m \u001b[39melse\u001b[39;00m:\n\u001b[0;32m     60\u001b[0m     data \u001b[39m=\u001b[39m \u001b[39mself\u001b[39m\u001b[39m.\u001b[39mdataset[possibly_batched_index]\n\u001b[1;32m---> 61\u001b[0m \u001b[39mreturn\u001b[39;00m \u001b[39mself\u001b[39;49m\u001b[39m.\u001b[39;49mcollate_fn(data)\n",
      "File \u001b[1;32mc:\\Users\\glori\\GitHub\\Bearing-Fault-Diagnosis-with-Few-show-learning-pytorch\\dataset.py:206\u001b[0m, in \u001b[0;36mcustom_collate_fn_2\u001b[1;34m(batch)\u001b[0m\n\u001b[0;32m    204\u001b[0m     pairs[i][\u001b[39m0\u001b[39m] \u001b[39m=\u001b[39m torch\u001b[39m.\u001b[39mtensor(data1, dtype\u001b[39m=\u001b[39mtorch\u001b[39m.\u001b[39mfloat32)\n\u001b[0;32m    205\u001b[0m     pairs[i][\u001b[39m1\u001b[39m] \u001b[39m=\u001b[39m torch\u001b[39m.\u001b[39mtensor(data2, dtype\u001b[39m=\u001b[39mtorch\u001b[39m.\u001b[39mfloat32)\n\u001b[1;32m--> 206\u001b[0m     targets[i] \u001b[39m=\u001b[39m target\n\u001b[0;32m    208\u001b[0m x1, x2 \u001b[39m=\u001b[39m torch\u001b[39m.\u001b[39msplit(pairs, split_size_or_sections\u001b[39m=\u001b[39m\u001b[39m1\u001b[39m, dim\u001b[39m=\u001b[39m\u001b[39m3\u001b[39m)\n\u001b[0;32m    209\u001b[0m x1 \u001b[39m=\u001b[39m torch\u001b[39m.\u001b[39msqueeze(x1, dim\u001b[39m=\u001b[39m\u001b[39m3\u001b[39m)\n",
      "\u001b[1;31mKeyboardInterrupt\u001b[0m: "
     ]
    }
   ],
   "source": [
    "trainer.train()"
   ]
  },
  {
   "cell_type": "code",
   "execution_count": null,
   "metadata": {},
   "outputs": [],
   "source": []
  }
 ],
 "metadata": {
  "kernelspec": {
   "display_name": "base",
   "language": "python",
   "name": "python3"
  },
  "language_info": {
   "codemirror_mode": {
    "name": "ipython",
    "version": 3
   },
   "file_extension": ".py",
   "mimetype": "text/x-python",
   "name": "python",
   "nbconvert_exporter": "python",
   "pygments_lexer": "ipython3",
   "version": "3.9.12"
  },
  "orig_nbformat": 4,
  "vscode": {
   "interpreter": {
    "hash": "f1b88a2ab8ffc76ca6c3b3024dd67d30145f84351315ca22677786462d73cfd5"
   }
  }
 },
 "nbformat": 4,
 "nbformat_minor": 2
}
